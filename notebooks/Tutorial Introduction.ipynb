{
 "cells": [
  {
   "cell_type": "markdown",
   "metadata": {},
   "source": [
    "# Webinar GEO411\n",
    "***"
   ]
  },
  {
   "cell_type": "markdown",
   "metadata": {},
   "source": [
    "## Webniar Erstellung und Interpretation von Interferogrammen mit der open-source Software ISCE"
   ]
  },
  {
   "cell_type": "markdown",
   "metadata": {},
   "source": [
    "### Inhalt des Webinars\n",
    "    \n",
    "1. Theory und Nutzen der SAR-Interferometrie\n",
    "2. Linux setup (s. externe Kurzanleitung)\n",
    "3. ISCE Installation\n",
    "4. Prozessierung von Seninel-1 Tops Interferogrammen \n",
    "5. Visualisierung der Ergebnisse"
   ]
  },
  {
   "cell_type": "markdown",
   "metadata": {},
   "source": [
    "## Theory und Nutzen der SAR-Interferometrie"
   ]
  },
  {
   "cell_type": "markdown",
   "metadata": {},
   "source": [
    "\n",
    "\n",
    "![LeiYang](figures/FSH.png)\n",
    "*Waldhöhenkartierung mit ALOS-2 PALSAR-2 Interferometrie, Lei & Siqueira (2019)*\n",
    "\n",
    "<font color=\"red\"> mehr Beispiele?</font>\n",
    "#### Theorie\n",
    "- Multiplikation eines komplexen Radar-Aufnahmepaars \n",
    "- Phase eines Single Look Complex (SLC) nicht interpretierbar\n",
    "- Phaseninformation beider Aufnahmen werden in Bezug gesetzt\n",
    "- Temporaler und räumlicher Abstand (Baseline) entscheidend um Interferogramm zu berechnen\n",
    "- Kohärenz als Maß der Qualität eines Interferograms\n",
    "- $\\gamma_{obs} = \\gamma_{geom}\\gamma_{thermal}\\gamma_{vol}\\gamma_{temp}$\n",
    "\n",
    "<font color=\"red\">Noch sehr ungenau hier</font>\n",
    "\n",
    "![radar](figures/radar-interferogram.png)\n",
    "\n",
    "#### Information über:\n",
    "- Oberflöchendeformation\n",
    "- Geodätische Höhenmessung (DEM)\n",
    "- Kohärenzen\n",
    "\n"
   ]
  },
  {
   "cell_type": "markdown",
   "metadata": {
    "heading_collapsed": true
   },
   "source": [
    "# Sentinel-1"
   ]
  },
  {
   "cell_type": "markdown",
   "metadata": {
    "hidden": true
   },
   "source": [
    "\n",
    "- Zwei C-Band Repeat-pass Sensoren der ESA, Starts: 1A: 3. April 2014, 1B: 25. April 2016\n",
    "- Mehrere Aufnahmemodi, Interferometric Wide-Swath (IW) eine wichtige Neuerung\n",
    "- Hierbei die neue ESA Technologie des TOPSAR/TOPS angewendet.\n",
    "- Azimuth und Range-Ausdehung werden reduziert, und in nebeneinanderliegende Bursts geteilt -> Hohe Auflösung bei großer räumlicher Abdeckung\n",
    "- Fast uniforme SNR (Signal-to-Noise Ratio) und DTAR (Distributed Target Ambiguity Ratio) kann gewährleistet werden\n",
    "\n",
    "![Sentinel-1](figures/Sentinel-1.PNG)\n",
    "*Sentinel-1 Aufnahmegeometrie. Die Aufteilung der vorhergehenden ScanSAR Aufnahme in mehrere Swaths, die ihrerseits in Bursts geteilt sind, ISCE Team (2016)*\n"
   ]
  },
  {
   "cell_type": "markdown",
   "metadata": {
    "heading_collapsed": true
   },
   "source": [
    "# ISCE"
   ]
  },
  {
   "cell_type": "markdown",
   "metadata": {
    "hidden": true
   },
   "source": [
    "\n",
    "\n",
    "\n",
    "#### Funktionalitäten der ISCE S-1 Tops Prozessierung\n",
    "- Zusammenführen von Bursts in einem Swath\n",
    "- Koregistrierung mittels DEM (SRTM)\n",
    "- Azimuth-Koregistrierung mit \"Enhanced Spectral Diversity\" \n",
    "- Phasenkorrektur\n",
    "- Post-prozessierung: Filterung, Unwrapping, Geokodierung\n",
    "\n",
    "\n",
    "#### Funktionsweise\n",
    "- `topsApp.py` als einzelner Prozessaufruf über bash möglich\n",
    "- Daten müssen in vordefinierter Datenstruktur vorliegen, v.a. die Sentinel-1 Rohdaten im .SAFE-Format\n",
    "- Nur einzelne Swaths können prozessiert werden\n",
    "\n",
    "![Funktionsweise](figures/topsApp.png)\n",
    "*Funktionsweise der topsApp.py aus ISCE. ISCE Team (2016)*"
   ]
  },
  {
   "cell_type": "markdown",
   "metadata": {
    "hidden": true
   },
   "source": [
    "## References\n",
    "- ISCE Team (2016): Overview of S1A TOPS processing with ISCE – topsApp.py, JPL/Caltech\n",
    "- Lei & Siqueira (2019)"
   ]
  }
 ],
 "metadata": {
  "kernelspec": {
   "display_name": "Python 3",
   "language": "python",
   "name": "python3"
  },
  "language_info": {
   "codemirror_mode": {
    "name": "ipython",
    "version": 3
   },
   "file_extension": ".py",
   "mimetype": "text/x-python",
   "name": "python",
   "nbconvert_exporter": "python",
   "pygments_lexer": "ipython3",
   "version": "3.8.3"
  }
 },
 "nbformat": 4,
 "nbformat_minor": 4
}
