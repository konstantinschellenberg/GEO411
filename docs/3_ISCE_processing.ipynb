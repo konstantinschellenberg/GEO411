{
 "cells": [
  {
   "cell_type": "markdown",
   "metadata": {},
   "source": [
    "# Webinar GEO411\n",
    "***"
   ]
  },
  {
   "cell_type": "markdown",
   "metadata": {},
   "source": [
    "## Erstellung und Interpretation von Interferogrammen mit der open-source Software ISCE"
   ]
  },
  {
   "cell_type": "markdown",
   "metadata": {},
   "source": [
    "### Inhalt des Webinars\n",
    "    \n",
    "1. Theory und Nutzen der SAR-Interferometrie\n",
    "2. Linux setup (s. externe Kurzanleitung)\n",
    "3. **ISCE Installation**\n"
   ]
  },
  {
   "cell_type": "markdown",
   "metadata": {
    "heading_collapsed": true
   },
   "source": [
    "# ISCE"
   ]
  },
  {
   "cell_type": "markdown",
   "metadata": {
    "hidden": true
   },
   "source": [
    "#### Funktionalitäten der ISCE S-1 Tops Prozessierung\n",
    "- Zusammenführen von Bursts in einem Swath\n",
    "- Koregistrierung mittels DEM (SRTM)\n",
    "- Azimuth-Koregistrierung mit \"Enhanced Spectral Diversity\" \n",
    "- Phasenkorrektur\n",
    "- Post-prozessierung: Filterung, Unwrapping, Geokodierung\n",
    "\n",
    "\n",
    "#### Funktionsweise\n",
    "- `topsApp.py` als einzelner Prozessaufruf über bash möglich\n",
    "- Daten müssen in vordefinierter Datenstruktur vorliegen, v.a. die Sentinel-1 Rohdaten im .SAFE-Format\n",
    "- Nur einzelne Swaths können prozessiert werden\n",
    "\n",
    "![Funktionsweise](figures/topsApp.png)\n",
    "*Funktionsweise der topsApp.py aus ISCE. ISCE Team (2016)*"
   ]
  },
  {
   "cell_type": "markdown",
   "metadata": {
    "hidden": true
   },
   "source": [
    "## References\n",
    "- ISCE Team (2016): Overview of S1A TOPS processing with ISCE – topsApp.py, JPL/Caltech\n",
    "- Lei, Y., Siqueira, P., Torbick, N., Ducey, M., Chowdhury, D., & Salas, W. (2019). Generation of Large-Scale Moderate-Resolution Forest Height Mosaic With Spaceborne Repeat-Pass SAR Interferometry and Lidar. IEEE Transactions on Geoscience and Remote Sensing, 57(2), 770–787. doi:10.1109/tgrs.2018.2860590"
   ]
  }
 ],
 "metadata": {
  "kernelspec": {
   "display_name": "Python 3",
   "language": "python",
   "name": "python3"
  },
  "language_info": {
   "codemirror_mode": {
    "name": "ipython",
    "version": 3
   },
   "file_extension": ".py",
   "mimetype": "text/x-python",
   "name": "python",
   "nbconvert_exporter": "python",
   "pygments_lexer": "ipython3",
   "version": "3.8.3"
  }
 },
 "nbformat": 4,
 "nbformat_minor": 4
}
