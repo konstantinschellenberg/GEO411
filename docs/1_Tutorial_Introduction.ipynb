{
 "cells": [
  {
   "cell_type": "markdown",
   "metadata": {},
   "source": [
    "# Webinar GEO411 \n",
    "<img src=\"figures/1920px-Logo_UniJena.svg.png\" alt=\"logo\" width=\"200\" />\n",
    "\n",
    "***"
   ]
  },
  {
   "cell_type": "markdown",
   "metadata": {},
   "source": [
    "## Erstellung und Interpretation von Interferogrammen mit der open-source Software ISCE"
   ]
  },
  {
   "cell_type": "markdown",
   "metadata": {},
   "source": [
    "Robin Kohrs¹ & Konstantin Schellenberg¹, Juni 2020, GEO 411 <br>\n",
    "Modulverantwortliche/Betreuer: Dr. Mikhail Urbazaev¹, Dr.-Ing. Clémence Dubois¹, Prof. Dr. Christiane Schmullius¹ <br><br>\n",
    "_¹ Friedrich-Schiller-Universität Jena, Institut für Geographie, Lehrstuhl für Fernerkundung_ <br>\n"
   ]
  },
  {
   "cell_type": "markdown",
   "metadata": {},
   "source": [
    "### Inhalt des Webinars\n",
    "    \n",
    "1. **Theory und Nutzen der SAR-Interferometrie**\n",
    "2. Linux setup (s. externe Kurzanleitung)\n",
    "3. ISCE Installation\n",
    "4. Prozessierung von Sentinel-1 TOPS Interferogrammen \n",
    "5. Visualisierung der Ergebnisse"
   ]
  },
  {
   "cell_type": "markdown",
   "metadata": {},
   "source": [
    "## Theory und Nutzen der SAR-Interferometrie"
   ]
  },
  {
   "cell_type": "markdown",
   "metadata": {},
   "source": [
    "\n",
    "#### Theorie\n",
    "- Multiplikation eines komplexen Radar-Aufnahmepaars \n",
    "- Phase eines Single Look Complex (SLC) nicht interpretierbar\n",
    "- Phaseninformation beider Aufnahmen werden in Bezug gesetzt\n",
    "- Temporaler und räumlicher Abstand (Baseline) entscheidend um Interferogramm zu berechnen\n",
    "- Kohärenz als Maß der Qualität eines Interferograms\n",
    "- $\\gamma_{obs} = \\gamma_{geom}\\gamma_{thermal}\\gamma_{vol}\\gamma_{temp}$\n",
    "\n",
    "![radar](figures/radar-interferogram.png) \n",
    "*UNAVCO (2019)*\n",
    "\n",
    "#### Information über:\n",
    "- Oberflöchendeformation\n",
    "- Geodätische Höhenmessung (DEM)\n",
    "- Kohärenzen\n",
    "\n",
    "![LeiYang](figures/FSH.png)\n",
    "*Beispiel: Waldhöhenkartierung mit ALOS-2 PALSAR-2 Interferometrie, Lei & Siqueira (2019)*\n"
   ]
  },
  {
   "cell_type": "markdown",
   "metadata": {
    "heading_collapsed": true
   },
   "source": [
    "# Sentinel-1"
   ]
  },
  {
   "cell_type": "markdown",
   "metadata": {
    "hidden": true
   },
   "source": [
    "\n",
    "- Zwei C-Band Repeat-pass Sensoren der ESA, Starts: 1A: 3. April 2014, 1B: 25. April 2016\n",
    "- Mehrere Aufnahmemodi, Interferometric Wide-Swath (IW) eine wichtige Neuerung\n",
    "- Hierbei die neue ESA Technologie des TOPSAR/TOPS angewendet.\n",
    "- Azimuth und Range-Ausdehung werden reduziert, und in nebeneinanderliegende Bursts geteilt -> Hohe Auflösung bei großer räumlicher Abdeckung\n",
    "- Fast uniforme SNR (Signal-to-Noise Ratio) und DTAR (Distributed Target Ambiguity Ratio) kann gewährleistet werden\n",
    "\n",
    "![Sentinel-1](figures/Sentinel-1.PNG)\n",
    "*Sentinel-1 Aufnahmegeometrie. Die Aufteilung der vorhergehenden ScanSAR Aufnahme in mehrere Swaths, die ihrerseits in Bursts geteilt sind, ISCE Team (2016)*\n"
   ]
  },
  {
   "cell_type": "markdown",
   "metadata": {
    "hidden": true
   },
   "source": [
    "## References\n",
    "- ISCE Team (2016): Overview of S1A TOPS processing with ISCE – topsApp.py, JPL/Caltech\n",
    "- Lei, Y., Siqueira, P., Torbick, N., Ducey, M., Chowdhury, D., & Salas, W. (2019). Generation of Large-Scale Moderate-Resolution Forest Height Mosaic With Spaceborne Repeat-Pass SAR Interferometry and Lidar. IEEE Transactions on Geoscience and Remote Sensing, 57(2), 770–787. doi:10.1109/tgrs.2018.2860590\n",
    "- UNAVCO (2019). GAGE short course: InSAR Theory and Processing: Day One of Five. accessed via https://www.youtube.com/watch?time_continue=2&v=Q8sqCN4qfE4 [17.06.2020]"
   ]
  }
 ],
 "metadata": {
  "kernelspec": {
   "display_name": "Python 3",
   "language": "python",
   "name": "python3"
  },
  "language_info": {
   "codemirror_mode": {
    "name": "ipython",
    "version": 3
   },
   "file_extension": ".py",
   "mimetype": "text/x-python",
   "name": "python",
   "nbconvert_exporter": "python",
   "pygments_lexer": "ipython3",
   "version": "3.8.3"
  }
 },
 "nbformat": 4,
 "nbformat_minor": 4
}
